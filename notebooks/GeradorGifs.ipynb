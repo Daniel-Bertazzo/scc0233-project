{
 "cells": [
  {
   "cell_type": "code",
   "execution_count": null,
   "metadata": {
    "colab": {
     "base_uri": "https://localhost:8080/"
    },
    "id": "PjljWGobAduh",
    "outputId": "378c4329-fd95-4be8-94d4-07e7bea5ff7c"
   },
   "outputs": [
    {
     "name": "stdout",
     "output_type": "stream",
     "text": [
      "Mounted at /content/drive\n"
     ]
    }
   ],
   "source": [
    "from google.colab import drive\n",
    "drive.mount('/content/drive')"
   ]
  },
  {
   "cell_type": "code",
   "execution_count": null,
   "metadata": {
    "id": "HyJWmMItAk6D"
   },
   "outputs": [],
   "source": [
    "import imageio\n",
    "import os"
   ]
  },
  {
   "cell_type": "code",
   "execution_count": null,
   "metadata": {
    "id": "hYPWGr-qB3kT"
   },
   "outputs": [],
   "source": [
    "def sort_name(a):\n",
    "    \"\"\" Custom function to sort names, cosidering '_' < '0'\n",
    "    \"\"\"\n",
    "    number = []\n",
    "    under_line = False\n",
    "    for i in a:\n",
    "        if under_line and i != '_':\n",
    "            number.append(i)\n",
    "        if (i == '_'):\n",
    "            under_line = not under_line\n",
    "\n",
    "    number = ''.join(number)\n",
    "    number = int(number)\n",
    "    return number\n",
    "\n",
    "\n",
    "def generate_gif(image_index, path, output_path, output_name='gif.gif', frame_time=0.5):\n",
    "    \"\"\" Function that generate a gif given a path and an index to identify the\n",
    "        images to compose the gif\n",
    "\n",
    "            image_index: a number that identify the image (ex: foo_(image_index).png)\n",
    "            path: folder containing images\n",
    "            output_path: file path to the gif generated\n",
    "            output_name: name of the output file\n",
    "    \"\"\"\n",
    "\n",
    "    gif = []\n",
    "\n",
    "    # search images index on the path\n",
    "    all_images = os.listdir(path)\n",
    "    all_images = [i for i in all_images if i.endswith(image_index+'.png')]\n",
    "    all_images.sort(key=sort_name)\n",
    "\n",
    "    # print(all_images)\n",
    "\n",
    "    # append images into gif list\n",
    "    for image in all_images:\n",
    "        gif.append(imageio.imread(path+image))\n",
    "    \n",
    "    gif.append(imageio.imread(path+image))\n",
    "    gif.append(imageio.imread(path+image))\n",
    "    gif.append(imageio.imread(path+image))\n",
    "\n",
    "    # save as gif\n",
    "    imageio.mimsave(output_path+output_name, gif, duration=frame_time)"
   ]
  },
  {
   "cell_type": "code",
   "execution_count": null,
   "metadata": {
    "colab": {
     "base_uri": "https://localhost:8080/"
    },
    "id": "wsgw_4VoA3N6",
    "outputId": "021d59a4-82f2-4b2e-b1f1-1e5adc020096"
   },
   "outputs": [
    {
     "name": "stdout",
     "output_type": "stream",
     "text": [
      "Gerando Gifs das figs  0\n",
      "Gerando Gifs das figs  1\n",
      "Gerando Gifs das figs  2\n",
      "Gerando Gifs das figs  3\n",
      "Gerando Gifs das figs  4\n"
     ]
    }
   ],
   "source": [
    "basic_path = \"/content/drive/Shared drives/Equipe Rocket/8_Sem/Aplic AM/\"\n",
    "\n",
    "# generate_gif(str(0), basic_path+'output/photoGenerator/', basic_path+'gifs/', 'photoGen'+str(0)+'.gif')\n",
    "\n",
    "for i in range(5):\n",
    "    print(\"Gerando Gifs das figs \", i)\n",
    "    generate_gif(str(i), basic_path+'output/monetGenerator/', basic_path+'gifs/', 'monetGen'+str(i)+'.gif')\n",
    "    generate_gif(str(i), basic_path+'output/photoGenerator/', basic_path+'gifs/', 'photoGen'+str(i)+'.gif')"
   ]
  },
  {
   "cell_type": "code",
   "execution_count": null,
   "metadata": {
    "id": "kaDcFhKfF4Dq"
   },
   "outputs": [],
   "source": []
  }
 ],
 "metadata": {
  "colab": {
   "collapsed_sections": [],
   "name": "GeradorGifs.ipynb",
   "provenance": []
  },
  "kernelspec": {
   "display_name": "Python 3",
   "language": "python",
   "name": "python3"
  },
  "language_info": {
   "codemirror_mode": {
    "name": "ipython",
    "version": 3
   },
   "file_extension": ".py",
   "mimetype": "text/x-python",
   "name": "python",
   "nbconvert_exporter": "python",
   "pygments_lexer": "ipython3",
   "version": "3.8.3"
  }
 },
 "nbformat": 4,
 "nbformat_minor": 1
}
